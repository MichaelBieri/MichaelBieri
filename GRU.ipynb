{
  "nbformat": 4,
  "nbformat_minor": 0,
  "metadata": {
    "colab": {
      "provenance": [],
      "authorship_tag": "ABX9TyNODwXf2kTLDTGxEHNTWzaq",
      "include_colab_link": true
    },
    "kernelspec": {
      "name": "python3",
      "display_name": "Python 3"
    },
    "language_info": {
      "name": "python"
    }
  },
  "cells": [
    {
      "cell_type": "markdown",
      "metadata": {
        "id": "view-in-github",
        "colab_type": "text"
      },
      "source": [
        "<a href=\"https://colab.research.google.com/github/MichaelBieri/Sequence-Forecast-Energy-Values-Stock-Prices-using-Multivariate-Analysis/blob/main/GRU.ipynb\" target=\"_parent\"><img src=\"https://colab.research.google.com/assets/colab-badge.svg\" alt=\"Open In Colab\"/></a>"
      ]
    },
    {
      "cell_type": "markdown",
      "source": [
        "# GRU model"
      ],
      "metadata": {
        "id": "-FSHmC88knZc"
      }
    },
    {
      "cell_type": "code",
      "source": [
        "import pandas as pd\n",
        "import numpy as np\n",
        "from sklearn.preprocessing import MinMaxScaler\n",
        "from sklearn.model_selection import train_test_split\n",
        "from tensorflow.keras.models import Sequential\n",
        "from tensorflow.keras.layers import GRU, Dense\n",
        "import matplotlib.pyplot as plt\n",
        "\n",
        "# Load data\n",
        "file_path = 'merged_data2.csv'\n",
        "data = pd.read_csv(file_path)\n",
        "\n",
        "# Parse dates\n",
        "data['Date'] = pd.to_datetime(data['Date'], format='%d.%m.%Y')\n",
        "data = data.sort_values('Date')\n",
        "data = data.fillna(method='ffill').fillna(method='bfill')  # Fill NaN values\n",
        "\n",
        "# Define features and targets\n",
        "features = [\n",
        "    'electricity_price', 'global_economic_policy_uncertainty_index', 'sustainable_development_goals_index',\n",
        "    'inflation', 'eu_inflation', 'hydropower', 'photovoltaic', 'wind', 'nuclear',\n",
        "    'eu_gross_electricity_production', 'eu_electricity_price',\n",
        "    'growth_nominal_gross_domestic_product', 'swiss_growth_in_real_gross_domestic_product',\n",
        "    'grid_usage_price', 'energy_supply_costs', 'community_fees', 'feed_in_remuneration_at_cost_KEV',\n",
        "    'swiss_environmental_performance_index'\n",
        "]\n",
        "targets = ['electricity_price', 'eu_electricity_price']\n",
        "\n",
        "# Normalize data\n",
        "scaler = MinMaxScaler()\n",
        "data[features + targets] = scaler.fit_transform(data[features + targets])\n",
        "\n",
        "# Create sequences\n",
        "def create_sequences(data, features, targets, window_size):\n",
        "    sequences = []\n",
        "    for i in range(len(data) - window_size):\n",
        "        features_seq = data.iloc[i:i+window_size][features].values\n",
        "        target_seq = data.iloc[i+window_size][targets].values\n",
        "        sequences.append((features_seq, target_seq))\n",
        "    return sequences\n",
        "\n",
        "window_size = 38\n",
        "sequences = create_sequences(data, features, targets, window_size)\n",
        "\n",
        "# Split data into training and test sets\n",
        "train_sequences, test_sequences = train_test_split(sequences, test_size=0.2, random_state=42)\n",
        "\n",
        "# Prepare data for the model\n",
        "X_train = np.array([seq[0] for seq in train_sequences])\n",
        "y_train = np.array([seq[1] for seq in train_sequences])\n",
        "X_test = np.array([seq[0] for seq in test_sequences])\n",
        "y_test = np.array([seq[1] for seq in test_sequences])\n",
        "\n",
        "# Ensure data types are consistent\n",
        "X_train = X_train.astype(np.float32)\n",
        "y_train = y_train.astype(np.float32)\n",
        "X_test = X_test.astype(np.float32)\n",
        "y_test = y_test.astype(np.float32)\n",
        "\n",
        "# Define GRU model\n",
        "model = Sequential()\n",
        "model.add(GRU(50, return_sequences=False, input_shape=(window_size, len(features))))\n",
        "model.add(Dense(len(targets)))\n",
        "\n",
        "# Compile model\n",
        "model.compile(optimizer='adam', loss='mse')\n",
        "\n",
        "# Train model\n",
        "history = model.fit(X_train, y_train, epochs=50, batch_size=32, validation_data=(X_test, y_test))\n",
        "\n",
        "# Plot training history\n",
        "plt.plot(history.history['loss'], label='train_loss')\n",
        "plt.plot(history.history['val_loss'], label='val_loss')\n",
        "plt.legend()\n",
        "plt.show()\n",
        "\n",
        "# Evaluate model\n",
        "test_loss = model.evaluate(X_test, y_test)\n",
        "print(f'Test Loss: {test_loss}')\n",
        "\n",
        "first_predictions = model.predict(X_test) #first predicition\n",
        "\n",
        "first_predicted_values = np.hstack((X_test[:, -1, :], first_predictions)) # inverse for first predictions\n",
        "first_predicted_values = scaler.inverse_transform(first_predicted_values)\n",
        "\n",
        "last_values = X_test[-1] # last array deleted for recursive forecast\n",
        "\n",
        "recursive_predictions = []\n",
        "current_values = last_values # array\n",
        "\n",
        "for _ in range(30):\n",
        "    next_prediction = model.predict(current_values[np.newaxis, :, :]) # new axis for input dimension\n",
        "    combined_features_targets = np.hstack((current_values[-1, :], next_prediction[0])) # Combination features and targets\n",
        "    next_prediction_scaled = scaler.inverse_transform(combined_features_targets.reshape(1, -1))[0] # Convert the combined array in a 2D array. First line for 1D-Array\n",
        "    recursive_predictions.append(next_prediction_scaled[-len(targets):]) # add scaled prediciton to list\n",
        "\n",
        "    next_features = scaler.transform(next_prediction_scaled.reshape(1, -1))[0][:len(features)]  # Update the window with the new prediction\n",
        "    current_values = np.vstack((current_values[1:], next_features)) # cut the oldest values from the array and collect them for the next forecast\n",
        "\n",
        "# Print the next 30 predictions individually\n",
        "print(\"Next 30 Recursive Predictions:\")\n",
        "for i, prediction in enumerate(recursive_predictions, 1):\n",
        "    print(f\"Prediction {i}: {prediction}\")"
      ],
      "metadata": {
        "colab": {
          "base_uri": "https://localhost:8080/",
          "height": 1000
        },
        "id": "3TypojYB1__4",
        "outputId": "4dbbc3fd-27c8-4f8f-f209-d183e7f68d6a"
      },
      "execution_count": 67,
      "outputs": [
        {
          "output_type": "stream",
          "name": "stdout",
          "text": [
            "Epoch 1/50\n",
            "1/1 [==============================] - 3s 3s/step - loss: 0.8001 - val_loss: 0.5635\n",
            "Epoch 2/50\n",
            "1/1 [==============================] - 0s 58ms/step - loss: 0.5778 - val_loss: 0.3787\n",
            "Epoch 3/50\n",
            "1/1 [==============================] - 0s 74ms/step - loss: 0.3908 - val_loss: 0.2308\n",
            "Epoch 4/50\n",
            "1/1 [==============================] - 0s 53ms/step - loss: 0.2407 - val_loss: 0.1206\n",
            "Epoch 5/50\n",
            "1/1 [==============================] - 0s 78ms/step - loss: 0.1281 - val_loss: 0.0478\n",
            "Epoch 6/50\n",
            "1/1 [==============================] - 0s 60ms/step - loss: 0.0526 - val_loss: 0.0102\n",
            "Epoch 7/50\n",
            "1/1 [==============================] - 0s 76ms/step - loss: 0.0123 - val_loss: 0.0033\n",
            "Epoch 8/50\n",
            "1/1 [==============================] - 0s 61ms/step - loss: 0.0026 - val_loss: 0.0193\n",
            "Epoch 9/50\n",
            "1/1 [==============================] - 0s 57ms/step - loss: 0.0161 - val_loss: 0.0474\n",
            "Epoch 10/50\n",
            "1/1 [==============================] - 0s 56ms/step - loss: 0.0421 - val_loss: 0.0761\n",
            "Epoch 11/50\n",
            "1/1 [==============================] - 0s 54ms/step - loss: 0.0694 - val_loss: 0.0965\n",
            "Epoch 12/50\n",
            "1/1 [==============================] - 0s 59ms/step - loss: 0.0892 - val_loss: 0.1046\n",
            "Epoch 13/50\n",
            "1/1 [==============================] - 0s 71ms/step - loss: 0.0973 - val_loss: 0.1008\n",
            "Epoch 14/50\n",
            "1/1 [==============================] - 0s 49ms/step - loss: 0.0939 - val_loss: 0.0879\n",
            "Epoch 15/50\n",
            "1/1 [==============================] - 0s 48ms/step - loss: 0.0819 - val_loss: 0.0699\n",
            "Epoch 16/50\n",
            "1/1 [==============================] - 0s 69ms/step - loss: 0.0649 - val_loss: 0.0504\n",
            "Epoch 17/50\n",
            "1/1 [==============================] - 0s 73ms/step - loss: 0.0465 - val_loss: 0.0323\n",
            "Epoch 18/50\n",
            "1/1 [==============================] - 0s 68ms/step - loss: 0.0294 - val_loss: 0.0177\n",
            "Epoch 19/50\n",
            "1/1 [==============================] - 0s 80ms/step - loss: 0.0157 - val_loss: 0.0074\n",
            "Epoch 20/50\n",
            "1/1 [==============================] - 0s 83ms/step - loss: 0.0062 - val_loss: 0.0017\n",
            "Epoch 21/50\n",
            "1/1 [==============================] - 0s 71ms/step - loss: 0.0012 - val_loss: 1.3096e-06\n",
            "Epoch 22/50\n",
            "1/1 [==============================] - 0s 71ms/step - loss: 5.9127e-05 - val_loss: 0.0015\n",
            "Epoch 23/50\n",
            "1/1 [==============================] - 0s 83ms/step - loss: 0.0019 - val_loss: 0.0048\n",
            "Epoch 24/50\n",
            "1/1 [==============================] - 0s 87ms/step - loss: 0.0056 - val_loss: 0.0089\n",
            "Epoch 25/50\n",
            "1/1 [==============================] - 0s 87ms/step - loss: 0.0099 - val_loss: 0.0126\n",
            "Epoch 26/50\n",
            "1/1 [==============================] - 0s 78ms/step - loss: 0.0138 - val_loss: 0.0154\n",
            "Epoch 27/50\n",
            "1/1 [==============================] - 0s 88ms/step - loss: 0.0167 - val_loss: 0.0167\n",
            "Epoch 28/50\n",
            "1/1 [==============================] - 0s 74ms/step - loss: 0.0181 - val_loss: 0.0167\n",
            "Epoch 29/50\n",
            "1/1 [==============================] - 0s 87ms/step - loss: 0.0180 - val_loss: 0.0153\n",
            "Epoch 30/50\n",
            "1/1 [==============================] - 0s 69ms/step - loss: 0.0166 - val_loss: 0.0131\n",
            "Epoch 31/50\n",
            "1/1 [==============================] - 0s 71ms/step - loss: 0.0142 - val_loss: 0.0102\n",
            "Epoch 32/50\n",
            "1/1 [==============================] - 0s 66ms/step - loss: 0.0112 - val_loss: 0.0073\n",
            "Epoch 33/50\n",
            "1/1 [==============================] - 0s 75ms/step - loss: 0.0081 - val_loss: 0.0045\n",
            "Epoch 34/50\n",
            "1/1 [==============================] - 0s 73ms/step - loss: 0.0052 - val_loss: 0.0023\n",
            "Epoch 35/50\n",
            "1/1 [==============================] - 0s 69ms/step - loss: 0.0028 - val_loss: 8.2501e-04\n",
            "Epoch 36/50\n",
            "1/1 [==============================] - 0s 85ms/step - loss: 0.0011 - val_loss: 1.1176e-04\n",
            "Epoch 37/50\n",
            "1/1 [==============================] - 0s 79ms/step - loss: 2.0076e-04 - val_loss: 1.4825e-04\n",
            "Epoch 38/50\n",
            "1/1 [==============================] - 0s 72ms/step - loss: 5.6973e-05 - val_loss: 7.8083e-04\n",
            "Epoch 39/50\n",
            "1/1 [==============================] - 0s 75ms/step - loss: 5.2417e-04 - val_loss: 0.0018\n",
            "Epoch 40/50\n",
            "1/1 [==============================] - 0s 83ms/step - loss: 0.0014 - val_loss: 0.0029\n",
            "Epoch 41/50\n",
            "1/1 [==============================] - 0s 96ms/step - loss: 0.0023 - val_loss: 0.0038\n",
            "Epoch 42/50\n",
            "1/1 [==============================] - 0s 84ms/step - loss: 0.0032 - val_loss: 0.0044\n",
            "Epoch 43/50\n",
            "1/1 [==============================] - 0s 89ms/step - loss: 0.0037 - val_loss: 0.0045\n",
            "Epoch 44/50\n",
            "1/1 [==============================] - 0s 86ms/step - loss: 0.0039 - val_loss: 0.0043\n",
            "Epoch 45/50\n",
            "1/1 [==============================] - 0s 75ms/step - loss: 0.0036 - val_loss: 0.0037\n",
            "Epoch 46/50\n",
            "1/1 [==============================] - 0s 73ms/step - loss: 0.0031 - val_loss: 0.0029\n",
            "Epoch 47/50\n",
            "1/1 [==============================] - 0s 72ms/step - loss: 0.0024 - val_loss: 0.0021\n",
            "Epoch 48/50\n",
            "1/1 [==============================] - 0s 68ms/step - loss: 0.0017 - val_loss: 0.0013\n",
            "Epoch 49/50\n",
            "1/1 [==============================] - 0s 85ms/step - loss: 0.0010 - val_loss: 7.1351e-04\n",
            "Epoch 50/50\n",
            "1/1 [==============================] - 0s 85ms/step - loss: 4.8542e-04 - val_loss: 2.8542e-04\n"
          ]
        },
        {
          "output_type": "display_data",
          "data": {
            "text/plain": [
              "<Figure size 640x480 with 1 Axes>"
            ],
            "image/png": "[encoded data removed]"
          },
          "metadata": {}
        },
        {
          "output_type": "stream",
          "name": "stdout",
          "text": [
            "1/1 [==============================] - 0s 25ms/step - loss: 2.8542e-04\n",
            "Test Loss: 0.000285422895103693\n",
            "1/1 [==============================] - 0s 433ms/step\n",
            "1/1 [==============================] - 0s 22ms/step\n",
            "1/1 [==============================] - 0s 23ms/step\n",
            "1/1 [==============================] - 0s 22ms/step\n"
          ]
        },
        {
          "output_type": "stream",
          "name": "stderr",
          "text": [
            "/usr/local/lib/python3.10/dist-packages/sklearn/base.py:439: UserWarning: X does not have valid feature names, but MinMaxScaler was fitted with feature names\n",
            "  warnings.warn(\n",
            "/usr/local/lib/python3.10/dist-packages/sklearn/base.py:439: UserWarning: X does not have valid feature names, but MinMaxScaler was fitted with feature names\n",
            "  warnings.warn(\n",
            "/usr/local/lib/python3.10/dist-packages/sklearn/base.py:439: UserWarning: X does not have valid feature names, but MinMaxScaler was fitted with feature names\n",
            "  warnings.warn(\n"
          ]
        },
        {
          "output_type": "stream",
          "name": "stdout",
          "text": [
            "1/1 [==============================] - 0s 21ms/step\n",
            "1/1 [==============================] - 0s 22ms/step\n",
            "1/1 [==============================] - 0s 21ms/step\n"
          ]
        },
        {
          "output_type": "stream",
          "name": "stderr",
          "text": [
            "/usr/local/lib/python3.10/dist-packages/sklearn/base.py:439: UserWarning: X does not have valid feature names, but MinMaxScaler was fitted with feature names\n",
            "  warnings.warn(\n",
            "/usr/local/lib/python3.10/dist-packages/sklearn/base.py:439: UserWarning: X does not have valid feature names, but MinMaxScaler was fitted with feature names\n",
            "  warnings.warn(\n",
            "/usr/local/lib/python3.10/dist-packages/sklearn/base.py:439: UserWarning: X does not have valid feature names, but MinMaxScaler was fitted with feature names\n",
            "  warnings.warn(\n"
          ]
        },
        {
          "output_type": "stream",
          "name": "stdout",
          "text": [
            "1/1 [==============================] - 0s 23ms/step\n",
            "1/1 [==============================] - 0s 22ms/step\n",
            "1/1 [==============================] - 0s 22ms/step\n"
          ]
        },
        {
          "output_type": "stream",
          "name": "stderr",
          "text": [
            "/usr/local/lib/python3.10/dist-packages/sklearn/base.py:439: UserWarning: X does not have valid feature names, but MinMaxScaler was fitted with feature names\n",
            "  warnings.warn(\n",
            "/usr/local/lib/python3.10/dist-packages/sklearn/base.py:439: UserWarning: X does not have valid feature names, but MinMaxScaler was fitted with feature names\n",
            "  warnings.warn(\n",
            "/usr/local/lib/python3.10/dist-packages/sklearn/base.py:439: UserWarning: X does not have valid feature names, but MinMaxScaler was fitted with feature names\n",
            "  warnings.warn(\n"
          ]
        },
        {
          "output_type": "stream",
          "name": "stdout",
          "text": [
            "1/1 [==============================] - 0s 23ms/step\n",
            "1/1 [==============================] - 0s 24ms/step\n",
            "1/1 [==============================] - 0s 23ms/step\n"
          ]
        },
        {
          "output_type": "stream",
          "name": "stderr",
          "text": [
            "/usr/local/lib/python3.10/dist-packages/sklearn/base.py:439: UserWarning: X does not have valid feature names, but MinMaxScaler was fitted with feature names\n",
            "  warnings.warn(\n",
            "/usr/local/lib/python3.10/dist-packages/sklearn/base.py:439: UserWarning: X does not have valid feature names, but MinMaxScaler was fitted with feature names\n",
            "  warnings.warn(\n",
            "/usr/local/lib/python3.10/dist-packages/sklearn/base.py:439: UserWarning: X does not have valid feature names, but MinMaxScaler was fitted with feature names\n",
            "  warnings.warn(\n"
          ]
        },
        {
          "output_type": "stream",
          "name": "stdout",
          "text": [
            "1/1 [==============================] - 0s 23ms/step\n",
            "1/1 [==============================] - 0s 23ms/step\n",
            "1/1 [==============================] - 0s 21ms/step\n"
          ]
        },
        {
          "output_type": "stream",
          "name": "stderr",
          "text": [
            "/usr/local/lib/python3.10/dist-packages/sklearn/base.py:439: UserWarning: X does not have valid feature names, but MinMaxScaler was fitted with feature names\n",
            "  warnings.warn(\n",
            "/usr/local/lib/python3.10/dist-packages/sklearn/base.py:439: UserWarning: X does not have valid feature names, but MinMaxScaler was fitted with feature names\n",
            "  warnings.warn(\n",
            "/usr/local/lib/python3.10/dist-packages/sklearn/base.py:439: UserWarning: X does not have valid feature names, but MinMaxScaler was fitted with feature names\n",
            "  warnings.warn(\n"
          ]
        },
        {
          "output_type": "stream",
          "name": "stdout",
          "text": [
            "1/1 [==============================] - 0s 25ms/step\n",
            "1/1 [==============================] - 0s 21ms/step\n",
            "1/1 [==============================] - 0s 24ms/step\n"
          ]
        },
        {
          "output_type": "stream",
          "name": "stderr",
          "text": [
            "/usr/local/lib/python3.10/dist-packages/sklearn/base.py:439: UserWarning: X does not have valid feature names, but MinMaxScaler was fitted with feature names\n",
            "  warnings.warn(\n",
            "/usr/local/lib/python3.10/dist-packages/sklearn/base.py:439: UserWarning: X does not have valid feature names, but MinMaxScaler was fitted with feature names\n",
            "  warnings.warn(\n",
            "/usr/local/lib/python3.10/dist-packages/sklearn/base.py:439: UserWarning: X does not have valid feature names, but MinMaxScaler was fitted with feature names\n",
            "  warnings.warn(\n"
          ]
        },
        {
          "output_type": "stream",
          "name": "stdout",
          "text": [
            "1/1 [==============================] - 0s 22ms/step\n",
            "1/1 [==============================] - 0s 23ms/step\n",
            "1/1 [==============================] - 0s 21ms/step\n"
          ]
        },
        {
          "output_type": "stream",
          "name": "stderr",
          "text": [
            "/usr/local/lib/python3.10/dist-packages/sklearn/base.py:439: UserWarning: X does not have valid feature names, but MinMaxScaler was fitted with feature names\n",
            "  warnings.warn(\n",
            "/usr/local/lib/python3.10/dist-packages/sklearn/base.py:439: UserWarning: X does not have valid feature names, but MinMaxScaler was fitted with feature names\n",
            "  warnings.warn(\n",
            "/usr/local/lib/python3.10/dist-packages/sklearn/base.py:439: UserWarning: X does not have valid feature names, but MinMaxScaler was fitted with feature names\n",
            "  warnings.warn(\n"
          ]
        },
        {
          "output_type": "stream",
          "name": "stdout",
          "text": [
            "1/1 [==============================] - 0s 23ms/step\n",
            "1/1 [==============================] - 0s 22ms/step\n",
            "1/1 [==============================] - 0s 21ms/step\n"
          ]
        },
        {
          "output_type": "stream",
          "name": "stderr",
          "text": [
            "/usr/local/lib/python3.10/dist-packages/sklearn/base.py:439: UserWarning: X does not have valid feature names, but MinMaxScaler was fitted with feature names\n",
            "  warnings.warn(\n",
            "/usr/local/lib/python3.10/dist-packages/sklearn/base.py:439: UserWarning: X does not have valid feature names, but MinMaxScaler was fitted with feature names\n",
            "  warnings.warn(\n",
            "/usr/local/lib/python3.10/dist-packages/sklearn/base.py:439: UserWarning: X does not have valid feature names, but MinMaxScaler was fitted with feature names\n",
            "  warnings.warn(\n"
          ]
        },
        {
          "output_type": "stream",
          "name": "stdout",
          "text": [
            "1/1 [==============================] - 0s 26ms/step\n",
            "1/1 [==============================] - 0s 22ms/step\n",
            "1/1 [==============================] - 0s 22ms/step\n"
          ]
        },
        {
          "output_type": "stream",
          "name": "stderr",
          "text": [
            "/usr/local/lib/python3.10/dist-packages/sklearn/base.py:439: UserWarning: X does not have valid feature names, but MinMaxScaler was fitted with feature names\n",
            "  warnings.warn(\n",
            "/usr/local/lib/python3.10/dist-packages/sklearn/base.py:439: UserWarning: X does not have valid feature names, but MinMaxScaler was fitted with feature names\n",
            "  warnings.warn(\n",
            "/usr/local/lib/python3.10/dist-packages/sklearn/base.py:439: UserWarning: X does not have valid feature names, but MinMaxScaler was fitted with feature names\n",
            "  warnings.warn(\n"
          ]
        },
        {
          "output_type": "stream",
          "name": "stdout",
          "text": [
            "1/1 [==============================] - 0s 23ms/step\n",
            "1/1 [==============================] - 0s 22ms/step\n",
            "1/1 [==============================] - 0s 26ms/step\n",
            "Next 30 Recursive Predictions:\n",
            "Prediction 1: [25.890217    0.25362623]\n",
            "Prediction 2: [25.89409     0.25364634]\n",
            "Prediction 3: [25.892496    0.25357017]\n",
            "Prediction 4: [25.890108    0.25347227]\n",
            "Prediction 5: [25.888325   0.2533813]\n",
            "Prediction 6: [25.887318    0.25330603]\n",
            "Prediction 7: [25.886896    0.25324705]\n",
            "Prediction 8: [25.886824    0.25320217]\n",
            "Prediction 9: [25.886934    0.25316858]\n",
            "Prediction 10: [25.887106    0.25314367]\n",
            "Prediction 11: [25.887287   0.2531253]\n",
            "Prediction 12: [25.887447    0.25311184]\n",
            "Prediction 13: [25.887577    0.25310197]\n",
            "Prediction 14: [25.887674    0.25309476]\n",
            "Prediction 15: [25.887747   0.2530895]\n",
            "Prediction 16: [25.887796    0.25308564]\n",
            "Prediction 17: [25.88783     0.25308284]\n",
            "Prediction 18: [25.887852    0.25308084]\n",
            "Prediction 19: [25.887865    0.25307935]\n",
            "Prediction 20: [25.887873    0.25307828]\n",
            "Prediction 21: [25.887877   0.2530775]\n",
            "Prediction 22: [25.887877    0.25307697]\n",
            "Prediction 23: [25.887878    0.25307655]\n",
            "Prediction 24: [25.887877   0.2530763]\n",
            "Prediction 25: [25.887877    0.25307605]\n",
            "Prediction 26: [25.887877   0.2530759]\n",
            "Prediction 27: [25.887877   0.2530758]\n",
            "Prediction 28: [25.887877    0.25307572]\n",
            "Prediction 29: [25.887875    0.25307566]\n",
            "Prediction 30: [25.887875    0.25307563]\n"
          ]
        },
        {
          "output_type": "stream",
          "name": "stderr",
          "text": [
            "/usr/local/lib/python3.10/dist-packages/sklearn/base.py:439: UserWarning: X does not have valid feature names, but MinMaxScaler was fitted with feature names\n",
            "  warnings.warn(\n",
            "/usr/local/lib/python3.10/dist-packages/sklearn/base.py:439: UserWarning: X does not have valid feature names, but MinMaxScaler was fitted with feature names\n",
            "  warnings.warn(\n",
            "/usr/local/lib/python3.10/dist-packages/sklearn/base.py:439: UserWarning: X does not have valid feature names, but MinMaxScaler was fitted with feature names\n",
            "  warnings.warn(\n"
          ]
        }
      ]
    }
  ]
}